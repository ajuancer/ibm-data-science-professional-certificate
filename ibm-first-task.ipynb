{
  "metadata": {
    "kernelspec": {
      "name": "xpython",
      "display_name": "Python 3.13 (XPython)",
      "language": "python"
    },
    "language_info": {
      "file_extension": ".py",
      "mimetype": "text/x-python",
      "name": "python",
      "version": "3.13.1"
    }
  },
  "nbformat_minor": 5,
  "nbformat": 4,
  "cells": [
    {
      "id": "30155d76-613b-4e8e-9937-545232dab8bc",
      "cell_type": "markdown",
      "source": "# IBM profesional certification notebook",
      "metadata": {}
    },
    {
      "id": "4929d99a-e87b-47d7-8cc5-95ea9de9f55b",
      "cell_type": "markdown",
      "source": "This is a basic jupyter notebook required as mandatory activity for the IBM professional certification in data science. It is one of the final activities in module 6 of the unit \"Tools for data science\".",
      "metadata": {}
    },
    {
      "id": "df8dcb6d-58e7-45c0-959b-137675e43041",
      "cell_type": "markdown",
      "source": "## Data science languages\n### Python\n- Widely used for data analysis, machine learning, and visualization.\n- Popular libraries: Pandas, NumPy, scikit-learn, TensorFlow, Matplotlib.\n\n### R\n- Strong in statistical analysis and visualization.\n- Commonly used for academic research and exploratory data analysis.\n\n### SQL\n- Essential for querying and managing structured data in databases.\n- Often combined with Python or R for deeper analysis.\n\n### Julia\n- High-performance language for numerical and scientific computing.\n- Gaining popularity for large-scale data and machine learning tasks.",
      "metadata": {}
    },
    {
      "id": "6f665956-3595-4e6e-b4f5-c29574ddc354",
      "cell_type": "markdown",
      "source": "## Data Science Libraries\n\nData science relies on powerful libraries that simplify analysis, visualization, and machine learning tasks. Some of the most widely used libraries include:\n\n- `Pandas`\n    - Provides data structures like DataFrames for data cleaning and analysis.\n    - Ideal for handling structured/tabular data.\n- `NumPy`\n    - Core library for numerical computing in Python.\n    - Offers efficient array operations and linear algebra tools.\n- `Matplotlib`\n    - Fundamental plotting library for creating static, interactive, and animated visualizations.\n- `Seaborn`\n    - Built on Matplotlib, specialized for statistical data visualization.\n    - Offers high-level functions for creating attractive plots easily.\n- `scikit-learn`\n    - Provides tools for machine learning: classification, regression, clustering, and preprocessing.\n    - Simple API for building and evaluating models.\n- `TensorFlow`\n    - Popular framework for deep learning and neural networks.\n    - Used in large-scale machine learning applications.\n- `PyTorch`\n    - Flexible and dynamic deep learning framework.\n    - Favored in research and production for its ease of use.",
      "metadata": {}
    },
    {
      "id": "b9ea3f38-7be8-4957-9b20-500db6add487",
      "cell_type": "markdown",
      "source": "## Data Science Tools\n\n| Tool          | Category             | Main Use Case                                |\n|---------------|----------------------|-----------------------------------------------|\n| Jupyter       | Notebook Environment | Interactive coding, data exploration, reports |\n| RStudio       | IDE                  | R programming, data analysis, visualization   |\n| Google Colab  | Cloud Notebook       | Free cloud-based notebooks with GPU support   |\n| VS Code       | IDE                  | General-purpose coding with data science add-ons |\n| Tableau       | Visualization        | Business intelligence, dashboards, reporting  |\n| Power BI      | Visualization        | Data analysis and interactive dashboards      |\n| Apache Spark  | Big Data Framework   | Large-scale data processing and analytics     |\n| Hadoop        | Big Data Framework   | Distributed storage and batch data processing |\n| RapidMiner    | Data Science Platform| Drag-and-drop analytics and machine learning  |\n| KNIME         | Data Science Platform| Visual workflow for data analytics            |\n",
      "metadata": {}
    },
    {
      "id": "57f84701-2b6c-4cfc-b008-719b13662206",
      "cell_type": "markdown",
      "source": "# Arithmetic Expressions in Python\n\nWe can use arithmetic expressions directly in Python to perform calculations.  \nFor example, `3 + 5` gives `8`, while `10 - 4` results in `6`.  \nMultiplication works as expected: `7 * 2` equals `14`.  \nDivision produces floating-point results, so `8 / 3` is approximately `2.67`.  \n\nWe can also use other operators:  \n`9 // 2` performs floor division and gives `4`,  \n`9 % 2` returns the remainder `1`,  \nand `2 ** 3` evaluates to `8`.\n",
      "metadata": {}
    },
    {
      "id": "f1feab26-034e-490a-a6f7-2b819dec8728",
      "cell_type": "code",
      "source": "# now multiply and add\n3 * 3 + 2 ** 5 + 1",
      "metadata": {
        "trusted": true
      },
      "outputs": [
        {
          "execution_count": 1,
          "output_type": "execute_result",
          "data": {
            "text/plain": "42"
          },
          "metadata": {}
        }
      ],
      "execution_count": 1
    },
    {
      "id": "b1ab9bd7-9468-4e17-93a5-e599b37abc39",
      "cell_type": "code",
      "source": "# Convert minutes to hours\n\nminutes = 135  # example value\nhours = minutes / 60\n\nprint(f\"{minutes} minutes is equal to {hours} hours\")\n",
      "metadata": {
        "trusted": true
      },
      "outputs": [
        {
          "name": "stdout",
          "output_type": "stream",
          "text": "135 minutes is equal to 2.25 hours\n"
        }
      ],
      "execution_count": 2
    },
    {
      "id": "c455d42e-c52f-46bf-be28-66d58d3602b9",
      "cell_type": "markdown",
      "source": "## Objectives\nI am to laxy to copy the objectives of this course :)",
      "metadata": {}
    },
    {
      "id": "603bc3d1-4058-4305-9531-9623bd8ffd1c",
      "cell_type": "markdown",
      "source": "## Author\n[juancer](https://juancer.me) is the author of this notebook",
      "metadata": {}
    },
    {
      "id": "57b27faa-9611-4d3c-a3e5-b3fa437ba581",
      "cell_type": "code",
      "source": "",
      "metadata": {
        "trusted": true
      },
      "outputs": [],
      "execution_count": null
    }
  ]
}